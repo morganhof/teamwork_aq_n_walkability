{
 "cells": [
  {
   "cell_type": "code",
   "execution_count": 80,
   "metadata": {},
   "outputs": [],
   "source": [
    "import numpy as np\n",
    "import pandas as pd\n",
    "import matplotlib.pyplot as plt\n",
    "\n",
    "import requests\n",
    "import time\n",
    "from time import sleep"
   ]
  },
  {
   "cell_type": "code",
   "execution_count": 81,
   "metadata": {},
   "outputs": [
    {
     "data": {
      "text/html": [
       "<div>\n",
       "<style scoped>\n",
       "    .dataframe tbody tr th:only-of-type {\n",
       "        vertical-align: middle;\n",
       "    }\n",
       "\n",
       "    .dataframe tbody tr th {\n",
       "        vertical-align: top;\n",
       "    }\n",
       "\n",
       "    .dataframe thead th {\n",
       "        text-align: right;\n",
       "    }\n",
       "</style>\n",
       "<table border=\"1\" class=\"dataframe\">\n",
       "  <thead>\n",
       "    <tr style=\"text-align: right;\">\n",
       "      <th></th>\n",
       "      <th>id</th>\n",
       "      <th>lat</th>\n",
       "      <th>lon</th>\n",
       "      <th>name</th>\n",
       "      <th>location_type</th>\n",
       "      <th>pm_2.5</th>\n",
       "      <th>temp_f</th>\n",
       "      <th>temp_c</th>\n",
       "      <th>humidity</th>\n",
       "      <th>pressure</th>\n",
       "      <th>...</th>\n",
       "      <th>flagged</th>\n",
       "      <th>downgraded</th>\n",
       "      <th>age</th>\n",
       "      <th>is_owner</th>\n",
       "      <th>10min_avg</th>\n",
       "      <th>30min_avg</th>\n",
       "      <th>1hour_avg</th>\n",
       "      <th>6hour_avg</th>\n",
       "      <th>1day_avg</th>\n",
       "      <th>1week_avg</th>\n",
       "    </tr>\n",
       "  </thead>\n",
       "  <tbody>\n",
       "    <tr>\n",
       "      <th>0</th>\n",
       "      <td>25999</td>\n",
       "      <td>30.053808</td>\n",
       "      <td>-95.494643</td>\n",
       "      <td>Villages of Bridgestone AQI</td>\n",
       "      <td>outside</td>\n",
       "      <td>1.0</td>\n",
       "      <td>50.0</td>\n",
       "      <td>10.0</td>\n",
       "      <td>62.0</td>\n",
       "      <td>1022.37</td>\n",
       "      <td>...</td>\n",
       "      <td>False</td>\n",
       "      <td>False</td>\n",
       "      <td>0</td>\n",
       "      <td>False</td>\n",
       "      <td>2.47</td>\n",
       "      <td>4.19</td>\n",
       "      <td>8.1</td>\n",
       "      <td>19.66</td>\n",
       "      <td>17.15</td>\n",
       "      <td>15.22</td>\n",
       "    </tr>\n",
       "  </tbody>\n",
       "</table>\n",
       "<p>1 rows × 23 columns</p>\n",
       "</div>"
      ],
      "text/plain": [
       "      id        lat        lon                          name location_type  \\\n",
       "0  25999  30.053808 -95.494643   Villages of Bridgestone AQI       outside   \n",
       "\n",
       "   pm_2.5  temp_f  temp_c  humidity  pressure  ... flagged downgraded  age  \\\n",
       "0     1.0    50.0    10.0      62.0   1022.37  ...   False      False    0   \n",
       "\n",
       "   is_owner  10min_avg  30min_avg  1hour_avg  6hour_avg  1day_avg  1week_avg  \n",
       "0     False       2.47       4.19        8.1      19.66     17.15      15.22  \n",
       "\n",
       "[1 rows x 23 columns]"
      ]
     },
     "execution_count": 81,
     "metadata": {},
     "output_type": "execute_result"
    }
   ],
   "source": [
    "air_df = pd.read_csv('./data/purpleair.csv')\n",
    "air_df.head(1)"
   ]
  },
  {
   "cell_type": "code",
   "execution_count": 94,
   "metadata": {},
   "outputs": [],
   "source": [
    "# Function to pull 2010 Census FIPs code from latitude & longitude \n",
    "\n",
    "def lat_lon_query(lat, lon, cen_yr):\n",
    "\n",
    "    url_fips = f'https://geo.fcc.gov/api/census/block/find?latitude={lat}&longitude={lon}&censusYear={cen_yr}&showall=true&format=json'\n",
    "    response = requests.get(url_fips)\n",
    "\n",
    "    if response.status_code == 200:\n",
    "        aq_fips = response.json()\n",
    "        aq_fips_code = aq_fips['Block']['FIPS']\n",
    "        # print(aq_fips_code)\n",
    "    else:\n",
    "        print('Error!')\n",
    "\n",
    "    return aq_fips_code\n",
    "\n",
    "# API: https://geo.fcc.gov/api/census/#!/block/get_block_find"
   ]
  },
  {
   "cell_type": "code",
   "execution_count": 95,
   "metadata": {},
   "outputs": [],
   "source": [
    "# Pulling FIPs codes for the observations in our purpleair data set, using the above function\n",
    "\n",
    "fips = air_df.apply(lambda row: lat_lon_query(row['lat'], row['lon'], 2010), axis=1)"
   ]
  },
  {
   "cell_type": "code",
   "execution_count": 96,
   "metadata": {},
   "outputs": [],
   "source": [
    "# Saving FIPs codes to new column in a dataframe\n",
    "air_df['fips_id'] = fips"
   ]
  },
  {
   "cell_type": "code",
   "execution_count": 97,
   "metadata": {},
   "outputs": [],
   "source": [
    "# Saving the updated dataset with the fips_id column to a new CSV\n",
    "air_df.to_csv('./data/purple_air_fips.csv')"
   ]
  },
  {
   "cell_type": "code",
   "execution_count": 104,
   "metadata": {},
   "outputs": [
    {
     "name": "stdout",
     "output_type": "stream",
     "text": [
      "<class 'pandas.core.frame.DataFrame'>\n",
      "RangeIndex: 14163 entries, 0 to 14162\n",
      "Data columns (total 25 columns):\n",
      " #   Column         Non-Null Count  Dtype  \n",
      "---  ------         --------------  -----  \n",
      " 0   Unnamed: 0     14163 non-null  int64  \n",
      " 1   id             14163 non-null  int64  \n",
      " 2   lat            14163 non-null  float64\n",
      " 3   lon            14163 non-null  float64\n",
      " 4   name           14163 non-null  object \n",
      " 5   location_type  14135 non-null  object \n",
      " 6   pm_2.5         14163 non-null  float64\n",
      " 7   temp_f         14163 non-null  float64\n",
      " 8   temp_c         14163 non-null  float64\n",
      " 9   humidity       14163 non-null  float64\n",
      " 10  pressure       14163 non-null  float64\n",
      " 11  last_seen      14163 non-null  object \n",
      " 12  model          14163 non-null  object \n",
      " 13  hidden         14163 non-null  bool   \n",
      " 14  flagged        14163 non-null  bool   \n",
      " 15  downgraded     14163 non-null  bool   \n",
      " 16  age            14163 non-null  int64  \n",
      " 17  is_owner       14163 non-null  bool   \n",
      " 18  10min_avg      14163 non-null  float64\n",
      " 19  30min_avg      14163 non-null  float64\n",
      " 20  1hour_avg      14163 non-null  float64\n",
      " 21  6hour_avg      14163 non-null  float64\n",
      " 22  1day_avg       14163 non-null  float64\n",
      " 23  1week_avg      14163 non-null  float64\n",
      " 24  fips_id        13791 non-null  float64\n",
      "dtypes: bool(4), float64(14), int64(3), object(4)\n",
      "memory usage: 2.3+ MB\n"
     ]
    }
   ],
   "source": [
    "# Pulling the new CSV into a new dataframe\n",
    "pa_fips_df = pd.read_csv('./data/purple_air_fips.csv')\n",
    "pa_fips_df.info()"
   ]
  },
  {
   "cell_type": "code",
   "execution_count": 107,
   "metadata": {},
   "outputs": [],
   "source": [
    "# Drop null fips_ids\n",
    "pa_fips_df.dropna(subset=['fips_id'], inplace=True)"
   ]
  },
  {
   "cell_type": "code",
   "execution_count": 138,
   "metadata": {},
   "outputs": [
    {
     "data": {
      "text/plain": [
       "0    482015549031\n",
       "1    530530703082\n",
       "2    530530703082\n",
       "3    421298086003\n",
       "4    060190050003\n",
       "Name: fips_id, dtype: object"
      ]
     },
     "execution_count": 138,
     "metadata": {},
     "output_type": "execute_result"
    }
   ],
   "source": [
    "# FIPs ID from float to int to string to fill to 15 numbers to first 12 numbers\n",
    "pa_fips_df['fips_id'] = pa_fips_df['fips_id'].astype(int).astype(str).str.zfill(15).apply(lambda num: num[:12])\n",
    "pa_fips_df['fips_id'][:5]"
   ]
  },
  {
   "cell_type": "code",
   "execution_count": 139,
   "metadata": {},
   "outputs": [
    {
     "data": {
      "text/html": [
       "<div>\n",
       "<style scoped>\n",
       "    .dataframe tbody tr th:only-of-type {\n",
       "        vertical-align: middle;\n",
       "    }\n",
       "\n",
       "    .dataframe tbody tr th {\n",
       "        vertical-align: top;\n",
       "    }\n",
       "\n",
       "    .dataframe thead th {\n",
       "        text-align: right;\n",
       "    }\n",
       "</style>\n",
       "<table border=\"1\" class=\"dataframe\">\n",
       "  <thead>\n",
       "    <tr style=\"text-align: right;\">\n",
       "      <th></th>\n",
       "      <th>Unnamed: 0</th>\n",
       "      <th>id</th>\n",
       "      <th>lat</th>\n",
       "      <th>lon</th>\n",
       "      <th>name</th>\n",
       "      <th>location_type</th>\n",
       "      <th>pm_2.5</th>\n",
       "      <th>temp_f</th>\n",
       "      <th>temp_c</th>\n",
       "      <th>humidity</th>\n",
       "      <th>...</th>\n",
       "      <th>downgraded</th>\n",
       "      <th>age</th>\n",
       "      <th>is_owner</th>\n",
       "      <th>10min_avg</th>\n",
       "      <th>30min_avg</th>\n",
       "      <th>1hour_avg</th>\n",
       "      <th>6hour_avg</th>\n",
       "      <th>1day_avg</th>\n",
       "      <th>1week_avg</th>\n",
       "      <th>fips_id</th>\n",
       "    </tr>\n",
       "  </thead>\n",
       "  <tbody>\n",
       "    <tr>\n",
       "      <th>0</th>\n",
       "      <td>0</td>\n",
       "      <td>25999</td>\n",
       "      <td>30.053808</td>\n",
       "      <td>-95.494643</td>\n",
       "      <td>Villages of Bridgestone AQI</td>\n",
       "      <td>outside</td>\n",
       "      <td>1.0</td>\n",
       "      <td>50.0</td>\n",
       "      <td>10.0</td>\n",
       "      <td>62.0</td>\n",
       "      <td>...</td>\n",
       "      <td>False</td>\n",
       "      <td>0</td>\n",
       "      <td>False</td>\n",
       "      <td>2.47</td>\n",
       "      <td>4.19</td>\n",
       "      <td>8.1</td>\n",
       "      <td>19.66</td>\n",
       "      <td>17.15</td>\n",
       "      <td>15.22</td>\n",
       "      <td>482015549031</td>\n",
       "    </tr>\n",
       "  </tbody>\n",
       "</table>\n",
       "<p>1 rows × 25 columns</p>\n",
       "</div>"
      ],
      "text/plain": [
       "   Unnamed: 0     id        lat        lon                          name  \\\n",
       "0           0  25999  30.053808 -95.494643   Villages of Bridgestone AQI   \n",
       "\n",
       "  location_type  pm_2.5  temp_f  temp_c  humidity  ...  downgraded age  \\\n",
       "0       outside     1.0    50.0    10.0      62.0  ...       False   0   \n",
       "\n",
       "  is_owner  10min_avg  30min_avg  1hour_avg  6hour_avg  1day_avg  1week_avg  \\\n",
       "0    False       2.47       4.19        8.1      19.66     17.15      15.22   \n",
       "\n",
       "        fips_id  \n",
       "0  482015549031  \n",
       "\n",
       "[1 rows x 25 columns]"
      ]
     },
     "execution_count": 139,
     "metadata": {},
     "output_type": "execute_result"
    }
   ],
   "source": [
    "pa_fips_df.head(1)"
   ]
  },
  {
   "cell_type": "code",
   "execution_count": 154,
   "metadata": {},
   "outputs": [
    {
     "data": {
      "text/html": [
       "<div>\n",
       "<style scoped>\n",
       "    .dataframe tbody tr th:only-of-type {\n",
       "        vertical-align: middle;\n",
       "    }\n",
       "\n",
       "    .dataframe tbody tr th {\n",
       "        vertical-align: top;\n",
       "    }\n",
       "\n",
       "    .dataframe thead th {\n",
       "        text-align: right;\n",
       "    }\n",
       "</style>\n",
       "<table border=\"1\" class=\"dataframe\">\n",
       "  <thead>\n",
       "    <tr style=\"text-align: right;\">\n",
       "      <th></th>\n",
       "      <th>Unnamed: 0</th>\n",
       "      <th>OBJECTID</th>\n",
       "      <th>GEOID10</th>\n",
       "      <th>GEOID20</th>\n",
       "      <th>STATEFP</th>\n",
       "      <th>COUNTYFP</th>\n",
       "      <th>TRACTCE</th>\n",
       "      <th>BLKGRPCE</th>\n",
       "      <th>CSA</th>\n",
       "      <th>CSA_Name</th>\n",
       "      <th>...</th>\n",
       "      <th>D5DRI</th>\n",
       "      <th>D5DE</th>\n",
       "      <th>D5DEI</th>\n",
       "      <th>D2A_Ranked</th>\n",
       "      <th>D2B_Ranked</th>\n",
       "      <th>D3B_Ranked</th>\n",
       "      <th>D4A_Ranked</th>\n",
       "      <th>NatWalkInd</th>\n",
       "      <th>Shape_Length</th>\n",
       "      <th>Shape_Area</th>\n",
       "    </tr>\n",
       "  </thead>\n",
       "  <tbody>\n",
       "    <tr>\n",
       "      <th>0</th>\n",
       "      <td>31470</td>\n",
       "      <td>31471</td>\n",
       "      <td>6.037187e+10</td>\n",
       "      <td>6.037187e+10</td>\n",
       "      <td>6</td>\n",
       "      <td>37</td>\n",
       "      <td>187200</td>\n",
       "      <td>2</td>\n",
       "      <td>348.0</td>\n",
       "      <td>Los Angeles-Long Beach, CA</td>\n",
       "      <td>...</td>\n",
       "      <td>0.309765</td>\n",
       "      <td>0.000133</td>\n",
       "      <td>0.17882</td>\n",
       "      <td>15</td>\n",
       "      <td>7</td>\n",
       "      <td>16</td>\n",
       "      <td>13</td>\n",
       "      <td>13.333333</td>\n",
       "      <td>3796.740538</td>\n",
       "      <td>552006.8969</td>\n",
       "    </tr>\n",
       "  </tbody>\n",
       "</table>\n",
       "<p>1 rows × 118 columns</p>\n",
       "</div>"
      ],
      "text/plain": [
       "   Unnamed: 0  OBJECTID       GEOID10       GEOID20  STATEFP  COUNTYFP  \\\n",
       "0       31470     31471  6.037187e+10  6.037187e+10        6        37   \n",
       "\n",
       "   TRACTCE  BLKGRPCE    CSA                    CSA_Name  ...     D5DRI  \\\n",
       "0   187200         2  348.0  Los Angeles-Long Beach, CA  ...  0.309765   \n",
       "\n",
       "       D5DE    D5DEI  D2A_Ranked  D2B_Ranked  D3B_Ranked  D4A_Ranked  \\\n",
       "0  0.000133  0.17882          15           7          16          13   \n",
       "\n",
       "   NatWalkInd  Shape_Length   Shape_Area  \n",
       "0   13.333333   3796.740538  552006.8969  \n",
       "\n",
       "[1 rows x 118 columns]"
      ]
     },
     "execution_count": 154,
     "metadata": {},
     "output_type": "execute_result"
    }
   ],
   "source": [
    "# Looking at the Walkability dataset fo LA...\n",
    "walk_la_df = pd.read_csv('./LA_data/walkability_LA.csv')\n",
    "walk_la_df.head(1)"
   ]
  },
  {
   "cell_type": "code",
   "execution_count": 155,
   "metadata": {},
   "outputs": [],
   "source": [
    "# FIPs ID from float to int to string to fill to 12 numbers\n",
    "walk_la_df['GEOID10'] = walk_la_df['GEOID10'].astype(int).astype(str).str.zfill(12)"
   ]
  },
  {
   "cell_type": "code",
   "execution_count": 156,
   "metadata": {},
   "outputs": [],
   "source": [
    "# Renaming column so we can merge on\n",
    "walk_la_df.rename(columns={'GEOID10': 'fips_id'}, inplace=True)"
   ]
  },
  {
   "cell_type": "code",
   "execution_count": 157,
   "metadata": {},
   "outputs": [
    {
     "data": {
      "text/html": [
       "<div>\n",
       "<style scoped>\n",
       "    .dataframe tbody tr th:only-of-type {\n",
       "        vertical-align: middle;\n",
       "    }\n",
       "\n",
       "    .dataframe tbody tr th {\n",
       "        vertical-align: top;\n",
       "    }\n",
       "\n",
       "    .dataframe thead th {\n",
       "        text-align: right;\n",
       "    }\n",
       "</style>\n",
       "<table border=\"1\" class=\"dataframe\">\n",
       "  <thead>\n",
       "    <tr style=\"text-align: right;\">\n",
       "      <th></th>\n",
       "      <th>Unnamed: 0</th>\n",
       "      <th>OBJECTID</th>\n",
       "      <th>fips_id</th>\n",
       "      <th>GEOID20</th>\n",
       "      <th>STATEFP</th>\n",
       "      <th>COUNTYFP</th>\n",
       "      <th>TRACTCE</th>\n",
       "      <th>BLKGRPCE</th>\n",
       "      <th>CSA</th>\n",
       "      <th>CSA_Name</th>\n",
       "      <th>...</th>\n",
       "      <th>D5DRI</th>\n",
       "      <th>D5DE</th>\n",
       "      <th>D5DEI</th>\n",
       "      <th>D2A_Ranked</th>\n",
       "      <th>D2B_Ranked</th>\n",
       "      <th>D3B_Ranked</th>\n",
       "      <th>D4A_Ranked</th>\n",
       "      <th>NatWalkInd</th>\n",
       "      <th>Shape_Length</th>\n",
       "      <th>Shape_Area</th>\n",
       "    </tr>\n",
       "  </thead>\n",
       "  <tbody>\n",
       "    <tr>\n",
       "      <th>0</th>\n",
       "      <td>31470</td>\n",
       "      <td>31471</td>\n",
       "      <td>060371872002</td>\n",
       "      <td>6.037187e+10</td>\n",
       "      <td>6</td>\n",
       "      <td>37</td>\n",
       "      <td>187200</td>\n",
       "      <td>2</td>\n",
       "      <td>348.0</td>\n",
       "      <td>Los Angeles-Long Beach, CA</td>\n",
       "      <td>...</td>\n",
       "      <td>0.309765</td>\n",
       "      <td>0.000133</td>\n",
       "      <td>0.17882</td>\n",
       "      <td>15</td>\n",
       "      <td>7</td>\n",
       "      <td>16</td>\n",
       "      <td>13</td>\n",
       "      <td>13.333333</td>\n",
       "      <td>3796.740538</td>\n",
       "      <td>552006.8969</td>\n",
       "    </tr>\n",
       "  </tbody>\n",
       "</table>\n",
       "<p>1 rows × 118 columns</p>\n",
       "</div>"
      ],
      "text/plain": [
       "   Unnamed: 0  OBJECTID       fips_id       GEOID20  STATEFP  COUNTYFP  \\\n",
       "0       31470     31471  060371872002  6.037187e+10        6        37   \n",
       "\n",
       "   TRACTCE  BLKGRPCE    CSA                    CSA_Name  ...     D5DRI  \\\n",
       "0   187200         2  348.0  Los Angeles-Long Beach, CA  ...  0.309765   \n",
       "\n",
       "       D5DE    D5DEI  D2A_Ranked  D2B_Ranked  D3B_Ranked  D4A_Ranked  \\\n",
       "0  0.000133  0.17882          15           7          16          13   \n",
       "\n",
       "   NatWalkInd  Shape_Length   Shape_Area  \n",
       "0   13.333333   3796.740538  552006.8969  \n",
       "\n",
       "[1 rows x 118 columns]"
      ]
     },
     "execution_count": 157,
     "metadata": {},
     "output_type": "execute_result"
    }
   ],
   "source": [
    "walk_la_df.head(1)"
   ]
  },
  {
   "cell_type": "code",
   "execution_count": 160,
   "metadata": {},
   "outputs": [
    {
     "data": {
      "text/plain": [
       "(612, 142)"
      ]
     },
     "execution_count": 160,
     "metadata": {},
     "output_type": "execute_result"
    }
   ],
   "source": [
    "air_walk_la = pd.merge(pa_fips_df, walk_la_df, on='fips_id')\n",
    "air_walk_la.shape"
   ]
  },
  {
   "cell_type": "code",
   "execution_count": 162,
   "metadata": {},
   "outputs": [
    {
     "data": {
      "text/plain": [
       "496"
      ]
     },
     "execution_count": 162,
     "metadata": {},
     "output_type": "execute_result"
    }
   ],
   "source": [
    "air_walk_la['fips_id'].value_counts().count()"
   ]
  },
  {
   "cell_type": "code",
   "execution_count": 163,
   "metadata": {},
   "outputs": [],
   "source": [
    "air_walk_la.to_csv('./LA_data/air_walk_merged_LA.csv')"
   ]
  }
 ],
 "metadata": {
  "interpreter": {
   "hash": "98a50cb2aca4e80adc6e29c12ccfb4672626a7c0d857767537bdcd8f6e0a96bd"
  },
  "kernelspec": {
   "display_name": "Python 3.9.7 ('base')",
   "language": "python",
   "name": "python3"
  },
  "language_info": {
   "codemirror_mode": {
    "name": "ipython",
    "version": 3
   },
   "file_extension": ".py",
   "mimetype": "text/x-python",
   "name": "python",
   "nbconvert_exporter": "python",
   "pygments_lexer": "ipython3",
   "version": "3.9.7"
  },
  "orig_nbformat": 4
 },
 "nbformat": 4,
 "nbformat_minor": 2
}
